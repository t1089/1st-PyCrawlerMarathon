{
 "cells": [
  {
   "cell_type": "markdown",
   "metadata": {},
   "source": [
    "# API 資料串接 - 以 Dcard API 實作範例\n",
    "\n",
    "* 利用 urllib 套件的 urlretrieve 方法下載檔案\n",
    "* 了解 Python File I/O 讀檔、寫檔的用法\n",
    "* 能用運用資源管理器 With Statement 優化寫法"
   ]
  },
  {
   "cell_type": "markdown",
   "metadata": {},
   "source": [
    "## 作業目標\n",
    "\n",
    "* 請利用 API: https://www.dcard.tw/_api/forums/pet/posts?popular=true 回答下列問題：\n",
    "\n",
    "1. 這個 API 一次會回傳幾筆資料？每一筆資料包含哪些欄位？\n",
    "2. 取出每一筆資料的「標題」、「貼文時間」、「留言人數」、「按讚人數」\n",
    "3. 計算熱門/非熱門文章的「平均留言人數」與「平均按讚人數」"
   ]
  },
  {
   "cell_type": "code",
   "execution_count": 3,
   "metadata": {},
   "outputs": [
    {
     "name": "stdout",
     "output_type": "stream",
     "text": [
      "共傳回 30 筆資料。\n",
      "每筆資料的欄位如下：\n",
      "id\n",
      "title\n",
      "excerpt\n",
      "anonymousSchool\n",
      "anonymousDepartment\n",
      "pinned\n",
      "forumId\n",
      "replyId\n",
      "createdAt\n",
      "updatedAt\n",
      "commentCount\n",
      "likeCount\n",
      "withNickname\n",
      "tags\n",
      "topics\n",
      "meta\n",
      "forumName\n",
      "forumAlias\n",
      "gender\n",
      "school\n",
      "department\n",
      "replyTitle\n",
      "mediaMeta\n",
      "reactions\n",
      "hidden\n",
      "customStyle\n",
      "isSuspiciousAccount\n",
      "layout\n",
      "withImages\n",
      "withVideos\n",
      "media\n",
      "reportReasonText\n",
      "postAvatar\n"
     ]
    }
   ],
   "source": [
    "# 1. 這個 API 一次會回傳幾筆資料？每一筆資料包含哪些欄位？\n",
    "\n",
    "import requests\n",
    "import json\n",
    "\n",
    "r=requests.get('https://www.dcard.tw/_api/forums/pet/posts?popular=true')\n",
    "list2=json.loads(r.text)\n",
    "print('共傳回',str(len(list2)),'筆資料。')\n",
    "#print(type(list2))\n",
    "keys=list2[0].keys()\n",
    "print('每筆資料的欄位如下：')\n",
    "for key in keys:\n",
    "    print(key)\n"
   ]
  },
  {
   "cell_type": "code",
   "execution_count": 65,
   "metadata": {},
   "outputs": [
    {
     "name": "stdout",
     "output_type": "stream",
     "text": [
      "按讚人數 留言人數 主題                                                       貼文時間\n",
      "   2966      70 不要被薩摩耶給騙了！                           2019-11-29T00:25:38.826Z\n",
      "   1849      48 這些狗你認識嗎😍                             2019-11-28T04:08:18.539Z\n",
      "    619      19 充滿柴柴的人生❤️                            2019-11-28T07:19:45.391Z\n",
      "    584      16 #圖多 偷看🐹上廁所......                     2019-11-28T13:44:17.224Z\n",
      "    519      49 請問這樣算不算虐貓                            2019-11-28T09:04:40.825Z\n",
      "    191      11 兄弟貓🧐                                 2019-11-28T12:25:11.285Z\n",
      "    138       7 #圖 柴柴 你能懂我的明白嗎？                      2019-11-28T16:22:31.895Z\n",
      "    135      20 沒有責任感根本沒資格養寵物                        2019-11-28T11:47:21.176Z\n",
      "     99       4 紙袋破壞王🏆                               2019-11-28T09:43:33.709Z\n",
      "     66       2 高科大校板的遺失倉鼠                           2019-11-28T05:23:12.530Z\n",
      "     55       4 我竟然被我家ㄉ狗鄙視！                          2019-11-28T16:51:07.018Z\n",
      "     50       0 天冷怎麼辦ಥ_ಥ #柯基#圖多                      2019-11-28T15:47:50.708Z\n",
      "     42       6 🐰誰說兔子不能碰水！兔子❤️海灘                     2019-11-29T07:34:46.328Z\n",
      "     42       2 貓咪教妳皮笑肉不笑🙂                           2019-11-28T11:55:17.571Z\n",
      "     30       1 #募款 #貓 愛在街角，守護浪貓                     2019-11-28T07:11:04.741Z\n",
      "     27       3 你也知道要坐那                              2019-11-28T17:00:22.755Z\n",
      "     23       0 就是你！！！我的菜！！！                         2019-11-29T03:10:51.060Z\n",
      "     23       3 請問有人的柴犬走失嗎？(已找到失主，謝謝大家的幫忙🙏）                 2019-11-28T14:57:09.825Z\n",
      "     23       6 我養了一隻樹懶🦥                             2019-11-28T12:18:21.317Z\n",
      "     22       3 吸貓治百病                                2019-11-29T06:53:05.300Z\n",
      "     20       0 有愛的假兄弟                               2019-11-29T04:09:24.480Z\n",
      "     20       4 當我的貓和海豹都是一個囧臉                        2019-11-28T05:35:09.787Z\n",
      "     17       5 #貓 #圖 我懷疑我家貓咪根本不覺得自己是貓咪                 2019-11-29T15:01:23.745Z\n",
      "     17       3 我家柴犬一系列照片                            2019-11-29T05:02:04.820Z\n",
      "     13       2 囤貓囤起來😻/圖多文長                          2019-11-29T03:41:19.070Z\n",
      "     12       4 限動裡的小三線們                             2019-11-29T04:00:40.448Z\n",
      "      9       0 問貓貓的帳號                               2019-11-28T11:30:50.129Z\n",
      "      8       8 挑戰極限的塞食物(๑˙❥˙๑)                      2019-11-28T07:55:21.256Z\n",
      "      7       2 台北中正區臨沂街 馬爾濟斯走丟                      2019-11-29T10:05:26.773Z\n",
      "      7       1 自己的主子最可愛                             2019-11-29T05:09:30.489Z\n"
     ]
    }
   ],
   "source": [
    "# 2. 取出每一筆資料的「標題」、「貼文時間」、「留言人數」、「按讚人數」\n",
    "\n",
    "import requests\n",
    "import json\n",
    "\n",
    "r=requests.get('https://www.dcard.tw/_api/forums/pet/posts?popular=true')\n",
    "list2=json.loads(r.text)\n",
    "print('%4s %4s %-30s %30s' % ('按讚人數','留言人數','主題','貼文時間'))\n",
    "for dict in list2:\n",
    "    print(\"%7d %7d %-20s %40s\" % (dict['likeCount'],dict['commentCount'],dict['title'],dict['createdAt']))\n"
   ]
  },
  {
   "cell_type": "code",
   "execution_count": 6,
   "metadata": {},
   "outputs": [
    {
     "name": "stdout",
     "output_type": "stream",
     "text": [
      "熱門文章：\n",
      "平均留言人數= 10.4 平均按讚人數= 263.4\n"
     ]
    }
   ],
   "source": [
    "# 3. 計算熱門/非熱門文章的「平均留言人數」與「平均按讚人數」\n",
    "\n",
    "import requests\n",
    "import json\n",
    "\n",
    "r=requests.get('https://www.dcard.tw/_api/forums/pet/posts?popular=true')\n",
    "list2=json.loads(r.text)\n",
    "len2=len(list2)\n",
    "totalLike=0\n",
    "totalComment=0\n",
    "\n",
    "for dict in list2:\n",
    "    totalLike+=dict['likeCount']\n",
    "    totalComment+=dict['commentCount']\n",
    "print('熱門文章：')\n",
    "print('平均留言人數=',str(totalComment/len2),'平均按讚人數=',str(totalLike/len2))\n"
   ]
  },
  {
   "cell_type": "code",
   "execution_count": 7,
   "metadata": {},
   "outputs": [
    {
     "name": "stdout",
     "output_type": "stream",
     "text": [
      "非熱門文章：\n",
      "平均留言人數= 2.933333333333333 平均按讚人數= 3.3\n"
     ]
    }
   ],
   "source": [
    "import requests\n",
    "import json\n",
    "\n",
    "r=requests.get('https://www.dcard.tw/_api/forums/pet/posts?popular=false')\n",
    "list2=json.loads(r.text)\n",
    "len2=len(list2)\n",
    "totalLike=0\n",
    "totalComment=0\n",
    "\n",
    "for dict in list2:\n",
    "    totalLike+=dict['likeCount']\n",
    "    totalComment+=dict['commentCount']\n",
    "print('非熱門文章：')\n",
    "print('平均留言人數=',str(totalComment/len2),'平均按讚人數=',str(totalLike/len2))\n"
   ]
  },
  {
   "cell_type": "code",
   "execution_count": null,
   "metadata": {},
   "outputs": [],
   "source": []
  }
 ],
 "metadata": {
  "kernelspec": {
   "display_name": "Python 3",
   "language": "python",
   "name": "python3"
  },
  "language_info": {
   "codemirror_mode": {
    "name": "ipython",
    "version": 3
   },
   "file_extension": ".py",
   "mimetype": "text/x-python",
   "name": "python",
   "nbconvert_exporter": "python",
   "pygments_lexer": "ipython3",
   "version": "3.6.4"
  }
 },
 "nbformat": 4,
 "nbformat_minor": 2
}
