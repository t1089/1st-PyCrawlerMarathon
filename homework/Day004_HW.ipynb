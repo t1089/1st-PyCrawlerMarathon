{
 "cells": [
  {
   "cell_type": "markdown",
   "metadata": {
    "colab_type": "text",
    "id": "uSf0mVenUdOf"
   },
   "source": [
    "# 利用 Python 存取 API\n",
    "\n",
    "\n",
    "* 了解 Server Client 的架構與溝通方法\n",
    "* 知道 HTTP Request & Response 的內容\n",
    "* 什麼是 API？如何用 Python 程式存取 API 資料\n"
   ]
  },
  {
   "cell_type": "markdown",
   "metadata": {
    "colab_type": "text",
    "id": "FwvxVPZuUdOh"
   },
   "source": [
    "## 作業目標\n",
    "\n",
    "* 比較一下範例檔案中的「r.text」與「json.loads(r.text)」讀出來的內容有什麼差異\n",
    "* 自行尋找一個合適的 API 接口做練習，並且查看其回傳內容\n",
    "    * https://cat-fact.herokuapp.com/facts (來源：https://alexwohlbruck.github.io/cat-facts/)\n",
    "    * http://odata.wra.gov.tw/v4/RealtimeWaterLevel (來源：https://data.gov.tw/dataset/25768)\n",
    "\n"
   ]
  },
  {
   "cell_type": "markdown",
   "metadata": {
    "colab_type": "text",
    "id": "r5GIjwYuUdOi"
   },
   "source": [
    "### 比較一下範例檔案中的「r.text」與「json.loads(r.text)」讀出來的內容有什麼差異"
   ]
  },
  {
   "cell_type": "code",
   "execution_count": 10,
   "metadata": {
    "colab": {},
    "colab_type": "code",
    "id": "sVxW3MTeUdOj",
    "outputId": "a83e3e3b-eb9d-4c6d-d5d2-3a2ef30cee87"
   },
   "outputs": [
    {
     "name": "stdout",
     "output_type": "stream",
     "text": [
      "r.text => <class 'str'>\n",
      "json.loads(r.text) => <class 'list'>\n"
     ]
    }
   ],
   "source": [
    "import requests\n",
    "import json\n",
    "\n",
    "r = requests.get('https://api.github.com/events')\n",
    "print('r.text => '+str(type(r.text)))\n",
    "jj=json.loads(r.text)\n",
    "print('json.loads(r.text) => '+str(type(json.loads(r.text))))"
   ]
  },
  {
   "cell_type": "markdown",
   "metadata": {
    "colab_type": "text",
    "id": "eJwMGD6XUdOn"
   },
   "source": [
    "### 自行尋找一個合適的 API 接口做練習，並且查看其回傳內容\n",
    "\n",
    "* https://cat-fact.herokuapp.com/facts (來源：https://alexwohlbruck.github.io/cat-facts/)\n",
    "* http://odata.wra.gov.tw/v4/RealtimeWaterLevel (來源：https://data.gov.tw/dataset/25768)\n"
   ]
  },
  {
   "cell_type": "code",
   "execution_count": 18,
   "metadata": {
    "colab": {},
    "colab_type": "code",
    "id": "XDvzxwA0UdOn",
    "outputId": "154b29e6-cd0d-48b9-e659-6e9a3f55e274"
   },
   "outputs": [
    {
     "name": "stdout",
     "output_type": "stream",
     "text": [
      "{'StationIdentifier': '2560H025', 'RecordTime': 'Nov 29, 2019 9:10:00 PM', 'WaterLevel': 3.17}\n",
      "{'StationIdentifier': '2560H022', 'RecordTime': 'Nov 29, 2019 9:00:00 PM', 'WaterLevel': 194.54}\n",
      "{'StationIdentifier': '2560H006', 'RecordTime': 'Nov 29, 2019 9:00:00 PM', 'WaterLevel': 3.17}\n",
      "{'StationIdentifier': '2560H019', 'RecordTime': 'Nov 29, 2019 9:00:00 PM', 'WaterLevel': -999998}\n",
      "{'StationIdentifier': '1660H011', 'RecordTime': 'Nov 29, 2019 9:00:00 PM', 'WaterLevel': 1.48}\n",
      "{'StationIdentifier': '1730H079', 'RecordTime': 'Nov 29, 2019 9:00:00 PM', 'WaterLevel': 548.8}\n",
      "{'StationIdentifier': '1660H013', 'RecordTime': 'Nov 29, 2019 9:00:00 PM', 'WaterLevel': 0.9}\n",
      "{'StationIdentifier': '1630H033', 'RecordTime': 'Nov 29, 2019 8:20:00 PM', 'WaterLevel': 0.62}\n",
      "{'StationIdentifier': '1660H010', 'RecordTime': 'Nov 29, 2019 9:00:00 PM', 'WaterLevel': 7.45}\n",
      "{'StationIdentifier': '1730H074', 'RecordTime': 'Nov 29, 2019 9:10:00 PM', 'WaterLevel': 245.48}\n",
      "{'StationIdentifier': '1650H008', 'RecordTime': 'Nov 29, 2019 9:00:00 PM', 'WaterLevel': 0.95}\n",
      "{'StationIdentifier': '2420H037', 'RecordTime': 'Nov 29, 2019 9:00:00 PM', 'WaterLevel': 133.4}\n",
      "{'StationIdentifier': '1630H029', 'RecordTime': 'Nov 29, 2019 8:20:00 PM', 'WaterLevel': 4.98}\n",
      "{'StationIdentifier': '1510H084', 'RecordTime': 'Nov 29, 2019 9:00:00 PM', 'WaterLevel': 145.01}\n",
      "{'StationIdentifier': '1730H069', 'RecordTime': 'Nov 29, 2019 9:00:00 PM', 'WaterLevel': 141.1}\n",
      "{'StationIdentifier': '1630H035', 'RecordTime': 'Nov 29, 2019 8:20:00 PM', 'WaterLevel': 402.47}\n",
      "{'StationIdentifier': '2200H022', 'RecordTime': 'Nov 29, 2019 9:00:00 PM', 'WaterLevel': 161.41}\n",
      "{'StationIdentifier': '1630H028', 'RecordTime': 'Nov 29, 2019 8:20:00 PM', 'WaterLevel': 10.26}\n",
      "{'StationIdentifier': '1510H081', 'RecordTime': 'Nov 29, 2019 9:00:00 PM', 'WaterLevel': 229.09}\n",
      "{'StationIdentifier': '1730H036', 'RecordTime': 'Nov 29, 2019 9:00:00 PM', 'WaterLevel': 107.43}\n",
      "{'StationIdentifier': '1630H031', 'RecordTime': 'Nov 29, 2019 8:20:00 PM', 'WaterLevel': 0.96}\n",
      "{'StationIdentifier': '1630H026', 'RecordTime': 'Nov 29, 2019 8:20:00 PM', 'WaterLevel': 44.49}\n",
      "{'StationIdentifier': '1430H052', 'RecordTime': 'Nov 29, 2019 9:00:00 PM', 'WaterLevel': 173.07}\n",
      "{'StationIdentifier': '1510H057', 'RecordTime': 'Nov 29, 2019 9:00:00 PM', 'WaterLevel': 88.49}\n",
      "{'StationIdentifier': '1590H012', 'RecordTime': 'Nov 29, 2019 9:00:00 PM', 'WaterLevel': 2.82}\n",
      "{'StationIdentifier': '1540H031', 'RecordTime': 'Nov 29, 2019 9:00:00 PM', 'WaterLevel': 10.09}\n",
      "{'StationIdentifier': '1510H063', 'RecordTime': 'Nov 29, 2019 9:00:00 PM', 'WaterLevel': 263.85}\n",
      "{'StationIdentifier': '1430H032', 'RecordTime': 'Nov 29, 2019 9:00:00 PM', 'WaterLevel': 337.57}\n",
      "{'StationIdentifier': '1430H061', 'RecordTime': 'Nov 29, 2019 9:00:00 PM', 'WaterLevel': 24.98}\n",
      "{'StationIdentifier': '1430H038', 'RecordTime': 'Nov 29, 2019 9:00:00 PM', 'WaterLevel': 74.81}\n",
      "{'StationIdentifier': '1510H050', 'RecordTime': 'Nov 29, 2019 9:00:00 PM', 'WaterLevel': 155.51}\n",
      "{'StationIdentifier': '1540H014', 'RecordTime': 'Nov 29, 2019 9:00:00 PM', 'WaterLevel': 7.97}\n",
      "{'StationIdentifier': '1430H030', 'RecordTime': 'Nov 29, 2019 9:00:00 PM', 'WaterLevel': 87.53}\n",
      "{'StationIdentifier': '1430H028', 'RecordTime': 'Nov 29, 2019 9:00:00 PM', 'WaterLevel': 23.58}\n",
      "{'StationIdentifier': '1430H060', 'RecordTime': 'Nov 29, 2019 9:00:00 PM', 'WaterLevel': 20.09}\n",
      "{'StationIdentifier': '2370H016', 'RecordTime': 'Nov 29, 2019 9:00:00 PM', 'WaterLevel': 167.8}\n",
      "{'StationIdentifier': '1430H057', 'RecordTime': 'Nov 29, 2019 9:00:00 PM', 'WaterLevel': 31.71}\n",
      "{'StationIdentifier': '1510H087', 'RecordTime': 'Nov 29, 2019 9:00:00 PM', 'WaterLevel': 428.66}\n",
      "{'StationIdentifier': '1420H053', 'RecordTime': 'Nov 29, 2019 8:50:00 PM', 'WaterLevel': 471.64}\n",
      "{'StationIdentifier': '1430H053', 'RecordTime': 'Nov 29, 2019 9:00:00 PM', 'WaterLevel': 38.42}\n",
      "{'StationIdentifier': '1430H025', 'RecordTime': 'Nov 29, 2019 9:00:00 PM', 'WaterLevel': 9.92}\n",
      "{'StationIdentifier': '1430H055', 'RecordTime': 'Nov 29, 2019 9:00:00 PM', 'WaterLevel': 78.57}\n",
      "{'StationIdentifier': '1740H007', 'RecordTime': 'Nov 29, 2019 9:00:00 PM', 'WaterLevel': 1.04}\n",
      "{'StationIdentifier': '1510H082', 'RecordTime': 'Nov 29, 2019 9:00:00 PM', 'WaterLevel': 752.39}\n",
      "{'StationIdentifier': '1740H011', 'RecordTime': 'Nov 29, 2019 9:00:00 PM', 'WaterLevel': 6.62}\n",
      "{'StationIdentifier': '1400H020', 'RecordTime': 'Nov 29, 2019 9:00:00 PM', 'WaterLevel': 318.69}\n",
      "{'StationIdentifier': '1430H048', 'RecordTime': 'Nov 29, 2019 9:00:00 PM', 'WaterLevel': 165.98}\n",
      "{'StationIdentifier': '1740H009', 'RecordTime': 'Nov 29, 2019 9:00:00 PM', 'WaterLevel': 32.39}\n",
      "{'StationIdentifier': '1300H024', 'RecordTime': 'Nov 29, 2019 9:00:00 PM', 'WaterLevel': 28.91}\n",
      "{'StationIdentifier': '1730H081', 'RecordTime': 'Nov 29, 2019 9:00:00 PM', 'WaterLevel': -999998}\n",
      "{'StationIdentifier': '1510H076', 'RecordTime': 'Nov 29, 2019 9:00:00 PM', 'WaterLevel': 4.87}\n",
      "{'StationIdentifier': '1420H056', 'RecordTime': 'Nov 29, 2019 9:00:00 PM', 'WaterLevel': 196.5}\n",
      "{'StationIdentifier': '1400H019', 'RecordTime': 'Nov 29, 2019 8:50:00 PM', 'WaterLevel': 310.32}\n",
      "{'StationIdentifier': '1430H046', 'RecordTime': 'Nov 29, 2019 9:00:00 PM', 'WaterLevel': 111.08}\n",
      "{'StationIdentifier': '1730H076', 'RecordTime': 'Nov 29, 2019 9:00:00 PM', 'WaterLevel': 58.07}\n",
      "{'StationIdentifier': '1300H021', 'RecordTime': 'Nov 29, 2019 9:00:00 PM', 'WaterLevel': -0.75}\n",
      "{'StationIdentifier': '1580H020', 'RecordTime': 'Nov 29, 2019 9:00:00 PM', 'WaterLevel': 35.22}\n",
      "{'StationIdentifier': '1510H064', 'RecordTime': 'Nov 29, 2019 9:00:00 PM', 'WaterLevel': 265.06}\n",
      "{'StationIdentifier': '1140H126', 'RecordTime': 'Nov 29, 2019 9:00:00 PM', 'WaterLevel': 80.98}\n",
      "{'StationIdentifier': '1580H015', 'RecordTime': 'Nov 29, 2019 9:00:00 PM', 'WaterLevel': 22.54}\n",
      "{'StationIdentifier': '1350H019', 'RecordTime': 'Nov 29, 2019 9:00:00 PM', 'WaterLevel': 33.71}\n",
      "{'StationIdentifier': '1730H071', 'RecordTime': 'Nov 29, 2019 9:00:00 PM', 'WaterLevel': 35.34}\n",
      "{'StationIdentifier': '1290H006', 'RecordTime': 'Nov 29, 2019 9:00:00 PM', 'WaterLevel': 66.94}\n",
      "{'StationIdentifier': '1400H012', 'RecordTime': 'Nov 29, 2019 9:00:00 PM', 'WaterLevel': 598.86}\n",
      "{'StationIdentifier': '1430H044', 'RecordTime': 'Nov 29, 2019 9:00:00 PM', 'WaterLevel': 139.48}\n",
      "{'StationIdentifier': '1140H095', 'RecordTime': 'Nov 29, 2019 8:50:00 PM', 'WaterLevel': 110.02}\n",
      "{'StationIdentifier': '1540H036', 'RecordTime': 'Nov 29, 2019 9:00:00 PM', 'WaterLevel': 0.25}\n",
      "{'StationIdentifier': '1300H013', 'RecordTime': 'Nov 29, 2019 9:00:00 PM', 'WaterLevel': 245.72}\n",
      "{'StationIdentifier': '1730H067', 'RecordTime': 'Nov 29, 2019 9:00:00 PM', 'WaterLevel': -999998}\n",
      "{'StationIdentifier': '1420H052', 'RecordTime': 'Nov 29, 2019 8:50:00 PM', 'WaterLevel': 428.57}\n",
      "{'StationIdentifier': '1140H097', 'RecordTime': 'Nov 29, 2019 8:50:00 PM', 'WaterLevel': 172.08}\n",
      "{'StationIdentifier': '1340H013', 'RecordTime': 'Nov 29, 2019 9:00:00 PM', 'WaterLevel': 247.02}\n",
      "{'StationIdentifier': '1140H067', 'RecordTime': 'Nov 29, 2019 8:50:00 PM', 'WaterLevel': 28.95}\n",
      "{'StationIdentifier': '2420H024', 'RecordTime': 'Nov 29, 2019 9:00:00 PM', 'WaterLevel': 4.77}\n",
      "{'StationIdentifier': '1140H109', 'RecordTime': 'Nov 29, 2019 8:50:00 PM', 'WaterLevel': 48.94}\n",
      "{'StationIdentifier': '1550H011', 'RecordTime': 'Nov 29, 2019 9:00:00 PM', 'WaterLevel': 0.08}\n",
      "{'StationIdentifier': '1730H066', 'RecordTime': 'Nov 29, 2019 9:10:00 PM', 'WaterLevel': 138.53}\n",
      "{'StationIdentifier': '1350H030', 'RecordTime': 'Nov 29, 2019 9:00:00 PM', 'WaterLevel': 57.55}\n",
      "{'StationIdentifier': '1270H001', 'RecordTime': 'Nov 29, 2019 9:00:00 PM', 'WaterLevel': 22.46}\n",
      "{'StationIdentifier': '1340H010', 'RecordTime': 'Nov 29, 2019 9:00:00 PM', 'WaterLevel': 0.64}\n",
      "{'StationIdentifier': '1350H028', 'RecordTime': 'Nov 29, 2019 9:00:00 PM', 'WaterLevel': 232.59}\n",
      "{'StationIdentifier': '2420H019', 'RecordTime': 'Nov 29, 2019 9:00:00 PM', 'WaterLevel': 109.98}\n",
      "{'StationIdentifier': '2420H018', 'RecordTime': 'Nov 29, 2019 9:00:00 PM', 'WaterLevel': 156.19}\n",
      "{'StationIdentifier': '1140H105', 'RecordTime': 'Nov 29, 2019 9:05:00 PM', 'WaterLevel': -0.1}\n",
      "{'StationIdentifier': '2200H029', 'RecordTime': 'Nov 29, 2019 9:00:00 PM', 'WaterLevel': 145.16}\n",
      "{'StationIdentifier': '1540H038', 'RecordTime': 'Nov 29, 2019 9:00:00 PM', 'WaterLevel': 54.81}\n",
      "{'StationIdentifier': '1730H061', 'RecordTime': 'Nov 29, 2019 9:00:00 PM', 'WaterLevel': 266.24}\n",
      "{'StationIdentifier': '2370H024', 'RecordTime': 'Nov 29, 2019 9:00:00 PM', 'WaterLevel': 195.43}\n",
      "{'StationIdentifier': '1730H062', 'RecordTime': 'Nov 29, 2019 9:00:00 PM', 'WaterLevel': 41.69}\n",
      "{'StationIdentifier': '1340H009', 'RecordTime': 'Nov 29, 2019 9:00:00 PM', 'WaterLevel': 175.84}\n",
      "{'StationIdentifier': '1350H026', 'RecordTime': 'Nov 29, 2019 9:00:00 PM', 'WaterLevel': 30.34}\n",
      "{'StationIdentifier': '2370H025', 'RecordTime': 'Nov 29, 2019 9:00:00 PM', 'WaterLevel': 261.61}\n",
      "{'StationIdentifier': '2370H018', 'RecordTime': 'Nov 29, 2019 9:00:00 PM', 'WaterLevel': 124.03}\n",
      "{'StationIdentifier': '2420H046', 'RecordTime': 'Nov 29, 2019 9:00:00 PM', 'WaterLevel': 35.96}\n",
      "{'StationIdentifier': '1850H004', 'RecordTime': 'Nov 29, 2019 9:00:00 PM', 'WaterLevel': 72.04}\n",
      "{'StationIdentifier': '1540H035', 'RecordTime': 'Nov 29, 2019 9:00:00 PM', 'WaterLevel': 86.68}\n",
      "{'StationIdentifier': '1730H057', 'RecordTime': 'Nov 29, 2019 9:00:00 PM', 'WaterLevel': 43.45}\n",
      "{'StationIdentifier': '1630H024', 'RecordTime': 'Nov 29, 2019 9:00:00 PM', 'WaterLevel': 69.12}\n",
      "{'StationIdentifier': '1510H088', 'RecordTime': 'Nov 29, 2019 9:00:00 PM', 'WaterLevel': 141.09}\n",
      "{'StationIdentifier': '1310H002', 'RecordTime': 'Nov 29, 2019 9:00:00 PM', 'WaterLevel': 1}\n"
     ]
    }
   ],
   "source": [
    "import requests\n",
    "import json\n",
    "\n",
    "r = requests.get('http://odata.wra.gov.tw/v4/RealtimeWaterLevel')\n",
    "dict=json.loads(r.text)\n",
    "for i in dict['value']:\n",
    "    print(i)\n",
    "#print(dict)"
   ]
  },
  {
   "cell_type": "code",
   "execution_count": 0,
   "metadata": {
    "colab": {},
    "colab_type": "code",
    "id": "RPISC-Y4UdOq"
   },
   "outputs": [],
   "source": []
  },
  {
   "cell_type": "code",
   "execution_count": 0,
   "metadata": {
    "colab": {},
    "colab_type": "code",
    "id": "H5EyeQRIUdOr"
   },
   "outputs": [],
   "source": []
  }
 ],
 "metadata": {
  "colab": {
   "name": "homework.ipynb",
   "provenance": []
  },
  "kernelspec": {
   "display_name": "Python 3",
   "language": "python",
   "name": "python3"
  },
  "language_info": {
   "codemirror_mode": {
    "name": "ipython",
    "version": 3
   },
   "file_extension": ".py",
   "mimetype": "text/x-python",
   "name": "python",
   "nbconvert_exporter": "python",
   "pygments_lexer": "ipython3",
   "version": "3.6.4"
  }
 },
 "nbformat": 4,
 "nbformat_minor": 1
}
