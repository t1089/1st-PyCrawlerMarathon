{
 "cells": [
  {
   "cell_type": "code",
   "execution_count": 36,
   "metadata": {},
   "outputs": [
    {
     "name": "stdout",
     "output_type": "stream",
     "text": [
      "11\n",
      "Hello World\n"
     ]
    }
   ],
   "source": [
    "#檔案：資料會包成檔案提供下載，格式如「CSV」、「JSON」、「XML」等格式。\n",
    "#API開放接口：可以選擇資料中要讀取的特定部分，而不需將全部的資料下載。\n",
    "#爬頁爬蟲：資料沒有以檔案或API提供，但出現在網頁上，可以利用爬蟲式程式，將網頁的資料解析所需的部分。\n",
    "from urllib.request import urlretrieve\n",
    "urlretrieve (\"https://www.w3.org/TR/PNG/iso_8859-1.txt\", \"./data/Homework.txt\")\n",
    "with open(\"./Homework.txt\", \"w\") as fh:\n",
    "    f = fh.write('Hello World')\n",
    "    print(f)\n",
    "\n",
    "with open(\"./Homework.txt\", \"r\") as fh:\n",
    "    f = fh.read()\n",
    "    print(f)\n"
   ]
  }
 ],
 "metadata": {
  "kernelspec": {
   "display_name": "Python 3",
   "language": "python",
   "name": "python3"
  },
  "language_info": {
   "codemirror_mode": {
    "name": "ipython",
    "version": 3
   },
   "file_extension": ".py",
   "mimetype": "text/x-python",
   "name": "python",
   "nbconvert_exporter": "python",
   "pygments_lexer": "ipython3",
   "version": "3.6.4"
  }
 },
 "nbformat": 4,
 "nbformat_minor": 2
}
