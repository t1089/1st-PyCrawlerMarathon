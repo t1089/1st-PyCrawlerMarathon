{
 "cells": [
  {
   "cell_type": "markdown",
   "metadata": {},
   "source": [
    "# API 資料串接 - 以 知乎 API 實作範例\n",
    "\n",
    "\n",
    "\n",
    "* 了解知乎 API 使用方式與回傳內容\n",
    "* 撰寫程式存取 API 且添加標頭\n",
    "\n",
    "\n"
   ]
  },
  {
   "cell_type": "markdown",
   "metadata": {},
   "source": [
    "## 作業目標\n",
    "\n",
    "* 根據範例提供的 API ，完成以下問題：\n",
    "\n",
    "    1. 取出知乎問題發問時間\n",
    "    2. 取出第一筆與最後一筆回答的時間\n"
   ]
  },
  {
   "cell_type": "markdown",
   "metadata": {},
   "source": [
    "### 1. 取出知乎問題發問時間"
   ]
  },
  {
   "cell_type": "code",
   "execution_count": 23,
   "metadata": {},
   "outputs": [
    {
     "name": "stdout",
     "output_type": "stream",
     "text": [
      "知乎問題發問時間 2018-11-25 00:12:11\n"
     ]
    }
   ],
   "source": [
    "# 1. 取出知乎問題發問時間\n",
    "\n",
    "import requests\n",
    "import json\n",
    "headers = {'user-agent': 'my-app/0.0.1'}\n",
    "r = requests.get('https://www.zhihu.com/api/v4/questions/55493026/answers',headers=headers)\n",
    "response = r.text\n",
    "\n",
    "data = json.loads(response)\n",
    "timeStamp=data['data'][0]['question']['updated_time']\n",
    "timeArray = time.localtime(timeStamp)\n",
    "styleTime = time.strftime(\"%Y-%m-%d %H:%M:%S\", timeArray)\n",
    "print('知乎問題發問時間',styleTime)\n"
   ]
  },
  {
   "cell_type": "markdown",
   "metadata": {},
   "source": [
    "### 2. 取出第一筆與最後一筆回答的時間"
   ]
  },
  {
   "cell_type": "code",
   "execution_count": 24,
   "metadata": {},
   "outputs": [
    {
     "name": "stdout",
     "output_type": "stream",
     "text": [
      "第一筆回答的時間 2019-05-14 17:00:12\n",
      "最後一筆回答的時間 2019-11-26 16:14:14\n"
     ]
    }
   ],
   "source": [
    "# 2. 取出第一筆與最後一筆回答的時間\n",
    "timeStamp=data['data'][0]['updated_time']\n",
    "timeArray = time.localtime(timeStamp)\n",
    "styleTime = time.strftime(\"%Y-%m-%d %H:%M:%S\", timeArray)\n",
    "print('第一筆回答的時間',styleTime)\n",
    "timeStamp=data['data'][len(data['data'])-1]['updated_time']\n",
    "timeArray = time.localtime(timeStamp)\n",
    "styleTime = time.strftime(\"%Y-%m-%d %H:%M:%S\", timeArray)\n",
    "\n",
    "print('最後一筆回答的時間',styleTime)"
   ]
  },
  {
   "cell_type": "code",
   "execution_count": null,
   "metadata": {},
   "outputs": [],
   "source": []
  },
  {
   "cell_type": "code",
   "execution_count": null,
   "metadata": {},
   "outputs": [],
   "source": []
  },
  {
   "cell_type": "code",
   "execution_count": null,
   "metadata": {},
   "outputs": [],
   "source": []
  }
 ],
 "metadata": {
  "kernelspec": {
   "display_name": "Python 3",
   "language": "python",
   "name": "python3"
  },
  "language_info": {
   "codemirror_mode": {
    "name": "ipython",
    "version": 3
   },
   "file_extension": ".py",
   "mimetype": "text/x-python",
   "name": "python",
   "nbconvert_exporter": "python",
   "pygments_lexer": "ipython3",
   "version": "3.6.4"
  }
 },
 "nbformat": 4,
 "nbformat_minor": 2
}
